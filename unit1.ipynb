{
  "nbformat": 4,
  "nbformat_minor": 0,
  "metadata": {
    "colab": {
      "provenance": [],
      "authorship_tag": "ABX9TyO/yNlUDaR6MvYYo6dtXKXw",
      "include_colab_link": true
    },
    "kernelspec": {
      "name": "python3",
      "display_name": "Python 3"
    },
    "language_info": {
      "name": "python"
    }
  },
  "cells": [
    {
      "cell_type": "markdown",
      "metadata": {
        "id": "view-in-github",
        "colab_type": "text"
      },
      "source": [
        "<a href=\"https://colab.research.google.com/github/StephanosNikitis/Python-Programming/blob/main/unit1.ipynb\" target=\"_parent\"><img src=\"https://colab.research.google.com/assets/colab-badge.svg\" alt=\"Open In Colab\"/></a>"
      ]
    },
    {
      "cell_type": "markdown",
      "source": [
        "1. Swapping Two Variables"
      ],
      "metadata": {
        "id": "iyz_yNHY90Km"
      }
    },
    {
      "cell_type": "code",
      "source": [
        "thor_score = 2000\n",
        "hulk_score = 1000\n",
        "thor_score,hulk_score = hulk_score,thor_score\n",
        "print(\"swap values are:\", thor_score, hulk_score)"
      ],
      "metadata": {
        "colab": {
          "base_uri": "https://localhost:8080/"
        },
        "id": "91FdhSmr-BgQ",
        "outputId": "86aac908-e673-4beb-8bd4-677c905e68ba"
      },
      "execution_count": null,
      "outputs": [
        {
          "output_type": "stream",
          "name": "stdout",
          "text": [
            "swap values are: 1000 2000\n"
          ]
        }
      ]
    },
    {
      "cell_type": "markdown",
      "source": [
        "2. Hulk's strength level is recorded as a string input \"1000\". Convert it into an integer and increase it by 200."
      ],
      "metadata": {
        "id": "Q2-eGDX9Aj6s"
      }
    },
    {
      "cell_type": "code",
      "source": [
        "hulk_strength = \"1000\"\n",
        "hulk_strength = int(hulk_strength) + 200\n",
        "print(f\"Hulk's strength: {hulk_strength}\")"
      ],
      "metadata": {
        "colab": {
          "base_uri": "https://localhost:8080/"
        },
        "id": "y8nIJyc7bEVT",
        "outputId": "4f9b89a0-eebd-409a-f8cf-44486d1e9317"
      },
      "execution_count": null,
      "outputs": [
        {
          "output_type": "stream",
          "name": "stdout",
          "text": [
            "Hulk's strength: 1200\n"
          ]
        }
      ]
    },
    {
      "cell_type": "markdown",
      "source": [
        "3. Thor's hammer mass is 5000 (int), but you need to calculate the gravitational force, which requires it as a float."
      ],
      "metadata": {
        "id": "x-BB7BtPAyce"
      }
    },
    {
      "cell_type": "code",
      "source": [
        "hammer_weight = 5000\n",
        "gravitational_force = float(hammer_weight) * 9.8\n",
        "print(f\"Gravitational force: {gravitational_force}\")"
      ],
      "metadata": {
        "colab": {
          "base_uri": "https://localhost:8080/"
        },
        "id": "tJyYAWbbbpeu",
        "outputId": "7b7f359a-9fc9-438f-b8ad-9da0df211654"
      },
      "execution_count": null,
      "outputs": [
        {
          "output_type": "stream",
          "name": "stdout",
          "text": [
            "Gravitational force: 49000.0\n"
          ]
        }
      ]
    },
    {
      "cell_type": "markdown",
      "source": [
        "4. Loki gets input in seconds (as string): \"3600\". Convert it into an integer and then to hours. Show final result as a float."
      ],
      "metadata": {
        "id": "Ko5f-71eBBo-"
      }
    },
    {
      "cell_type": "code",
      "source": [
        "seconds = \"3600\"\n",
        "seconds = int(seconds)\n",
        "hours = float(seconds) / 3600\n",
        "print(f\"Hours: {hours}\")"
      ],
      "metadata": {
        "colab": {
          "base_uri": "https://localhost:8080/"
        },
        "id": "A3t0tkSRcYot",
        "outputId": "8a1ebee0-9b9c-4cc3-ddf7-1ef2acb8280b"
      },
      "execution_count": null,
      "outputs": [
        {
          "output_type": "stream",
          "name": "stdout",
          "text": [
            "Hours: 1.0\n"
          ]
        }
      ]
    },
    {
      "cell_type": "markdown",
      "source": [
        "5. Iron Man recorded 7 hits out of 10 shots (both integers). Convert them into float and calculate accuracy percentage."
      ],
      "metadata": {
        "id": "Sr9YTmGhBTRF"
      }
    },
    {
      "cell_type": "code",
      "source": [
        "hits, total_shots = 7, 10\n",
        "accuracy_percentage = (hits / total_shots) * 100\n",
        "print(f\"Accuracy Percentage: {accuracy_percentage:.2f}\")"
      ],
      "metadata": {
        "colab": {
          "base_uri": "https://localhost:8080/"
        },
        "id": "dZ3a3VYuBspu",
        "outputId": "bb851af5-a32c-4fbd-ada6-1823ed5c95d8"
      },
      "execution_count": null,
      "outputs": [
        {
          "output_type": "stream",
          "name": "stdout",
          "text": [
            "Accuracy Percentage: 70.00\n"
          ]
        }
      ]
    }
  ]
}