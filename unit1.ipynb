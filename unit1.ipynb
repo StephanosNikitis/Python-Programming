{
  "nbformat": 4,
  "nbformat_minor": 0,
  "metadata": {
    "colab": {
      "provenance": [],
      "authorship_tag": "ABX9TyN9p2e7NQxAS42zh8vcAfxa",
      "include_colab_link": true
    },
    "kernelspec": {
      "name": "python3",
      "display_name": "Python 3"
    },
    "language_info": {
      "name": "python"
    }
  },
  "cells": [
    {
      "cell_type": "markdown",
      "metadata": {
        "id": "view-in-github",
        "colab_type": "text"
      },
      "source": [
        "<a href=\"https://colab.research.google.com/github/StephanosNikitis/Python-Programming/blob/main/unit1.ipynb\" target=\"_parent\"><img src=\"https://colab.research.google.com/assets/colab-badge.svg\" alt=\"Open In Colab\"/></a>"
      ]
    },
    {
      "cell_type": "markdown",
      "source": [
        "1. Swapping Two Variables"
      ],
      "metadata": {
        "id": "iyz_yNHY90Km"
      }
    },
    {
      "cell_type": "markdown",
      "source": [],
      "metadata": {
        "id": "RVLfChOEEW0m"
      }
    },
    {
      "cell_type": "code",
      "source": [
        "thor_score = 2000\n",
        "hulk_score = 1000\n",
        "thor_score,hulk_score = hulk_score,thor_score\n",
        "print(\"swap values are:\", thor_score, hulk_score)"
      ],
      "metadata": {
        "colab": {
          "base_uri": "https://localhost:8080/"
        },
        "id": "91FdhSmr-BgQ",
        "outputId": "b3f9f5b1-23b8-4b9c-ea4b-32c8c536af6c"
      },
      "execution_count": null,
      "outputs": [
        {
          "output_type": "stream",
          "name": "stdout",
          "text": [
            "swap values are: 1000 2000\n"
          ]
        }
      ]
    },
    {
      "cell_type": "markdown",
      "source": [
        "2. Hulk's strength level is recorded as a string input \"1000\". Convert it into an integer and increase it by 200."
      ],
      "metadata": {
        "id": "Q2-eGDX9Aj6s"
      }
    },
    {
      "cell_type": "code",
      "source": [
        "hulk_strength = \"1000\"\n",
        "hulk_strength = int(hulk_strength) + 200\n",
        "print(f\"Hulk's strength: {hulk_strength}\")"
      ],
      "metadata": {
        "colab": {
          "base_uri": "https://localhost:8080/"
        },
        "id": "y8nIJyc7bEVT",
        "outputId": "4f9b89a0-eebd-409a-f8cf-44486d1e9317"
      },
      "execution_count": null,
      "outputs": [
        {
          "output_type": "stream",
          "name": "stdout",
          "text": [
            "Hulk's strength: 1200\n"
          ]
        }
      ]
    },
    {
      "cell_type": "markdown",
      "source": [
        "3. Thor's hammer mass is 5000 (int), but you need to calculate the gravitational force, which requires it as a float."
      ],
      "metadata": {
        "id": "x-BB7BtPAyce"
      }
    },
    {
      "cell_type": "code",
      "source": [
        "hammer_mass = 5000\n",
        "gravitational_force = float(hammer_mass) * 9.8\n",
        "print(f\"Gravitational force: {gravitational_force}\")"
      ],
      "metadata": {
        "colab": {
          "base_uri": "https://localhost:8080/"
        },
        "id": "tJyYAWbbbpeu",
        "outputId": "c572c984-11ce-42bf-b80d-9cd8a11ad765"
      },
      "execution_count": null,
      "outputs": [
        {
          "output_type": "stream",
          "name": "stdout",
          "text": [
            "Gravitational force: 49000.0\n"
          ]
        }
      ]
    },
    {
      "cell_type": "markdown",
      "source": [
        "4. Loki gets input in seconds (as string): \"3600\". Convert it into an integer and then to hours. Show final result as a float."
      ],
      "metadata": {
        "id": "Ko5f-71eBBo-"
      }
    },
    {
      "cell_type": "code",
      "source": [
        "seconds = \"3600\"\n",
        "seconds = int(seconds)\n",
        "hours = float(seconds) / 3600\n",
        "print(f\"Hours: {hours}\")"
      ],
      "metadata": {
        "colab": {
          "base_uri": "https://localhost:8080/"
        },
        "id": "A3t0tkSRcYot",
        "outputId": "8a1ebee0-9b9c-4cc3-ddf7-1ef2acb8280b"
      },
      "execution_count": null,
      "outputs": [
        {
          "output_type": "stream",
          "name": "stdout",
          "text": [
            "Hours: 1.0\n"
          ]
        }
      ]
    },
    {
      "cell_type": "markdown",
      "source": [
        "5. Iron Man recorded 7 hits out of 10 shots (both integers). Convert them into float and calculate accuracy percentage."
      ],
      "metadata": {
        "id": "Sr9YTmGhBTRF"
      }
    },
    {
      "cell_type": "code",
      "source": [
        "hits, total_shots = 7, 10\n",
        "accuracy_percentage = (hits / total_shots) * 100\n",
        "print(f\"Accuracy Percentage: {accuracy_percentage:.2f}\")"
      ],
      "metadata": {
        "colab": {
          "base_uri": "https://localhost:8080/"
        },
        "id": "dZ3a3VYuBspu",
        "outputId": "7bb997eb-1c51-4463-f98f-c5a9a6ea0a33"
      },
      "execution_count": null,
      "outputs": [
        {
          "output_type": "stream",
          "name": "stdout",
          "text": [
            "Accuracy Percentage: 70.00\n"
          ]
        }
      ]
    },
    {
      "cell_type": "markdown",
      "source": [
        "# Object Referencing"
      ],
      "metadata": {
        "id": "CHCbDtXmEYag"
      }
    },
    {
      "cell_type": "markdown",
      "source": [
        "1. Python variable hold references to objects, not the actual object themselves."
      ],
      "metadata": {
        "id": "ln1O8RK4FVeN"
      }
    },
    {
      "cell_type": "code",
      "source": [
        "a = [1, 2, 3]\n",
        "b = a\n",
        "print(\"a original:\", a)\n",
        "b.append(4)\n",
        "print(\"a new:\", a)\n",
        "print(\"b:\", b)"
      ],
      "metadata": {
        "colab": {
          "base_uri": "https://localhost:8080/"
        },
        "id": "02oJad-VEdJe",
        "outputId": "194fa09f-c09d-40d0-a473-f91c93724567"
      },
      "execution_count": 1,
      "outputs": [
        {
          "output_type": "stream",
          "name": "stdout",
          "text": [
            "a original: [1, 2, 3]\n",
            "a new: [1, 2, 3, 4]\n",
            "b: [1, 2, 3, 4]\n"
          ]
        }
      ]
    },
    {
      "cell_type": "markdown",
      "source": [
        "2. Reassigning a variable does not affect other variables referencing the same object, unless explicitly updated."
      ],
      "metadata": {
        "id": "LyOWNEH5HZ1V"
      }
    },
    {
      "cell_type": "code",
      "source": [
        "a = [1, 2, 3]\n",
        "b = a\n",
        "b = [4, 5, 6]\n",
        "print(\"a:\", a)\n",
        "print(\"b:\", b)"
      ],
      "metadata": {
        "colab": {
          "base_uri": "https://localhost:8080/"
        },
        "id": "APwqvQ6aHCt_",
        "outputId": "6f312320-816a-4ba9-f249-999a27c44d15"
      },
      "execution_count": 3,
      "outputs": [
        {
          "output_type": "stream",
          "name": "stdout",
          "text": [
            "a: [1, 2, 3]\n",
            "b: [4, 5, 6]\n"
          ]
        }
      ]
    },
    {
      "cell_type": "code",
      "source": [
        "shield = [\"vibrarium\", \"round\"]\n",
        "copy_shield = shield\n",
        "print(\"Original Shield is:\", shield)\n",
        "print(\"Wolverine changes the materials of shield.\")\n",
        "copy_shield[0] = \"adamantium\"\n",
        "print(\"New Shield:\", shield)"
      ],
      "metadata": {
        "colab": {
          "base_uri": "https://localhost:8080/"
        },
        "id": "-nXsmCTRH3iB",
        "outputId": "ee3771a2-d4ef-4631-c488-a41810b921ec"
      },
      "execution_count": 8,
      "outputs": [
        {
          "output_type": "stream",
          "name": "stdout",
          "text": [
            "Original Shield is: ['vibrarium', 'round']\n",
            "Wolverine changes the materials of shield.\n",
            "New Shield: ['adamantium', 'round']\n"
          ]
        }
      ]
    },
    {
      "cell_type": "markdown",
      "source": [
        "3. Removing a variable"
      ],
      "metadata": {
        "id": "9o5p-IZsLEgh"
      }
    },
    {
      "cell_type": "code",
      "source": [
        "a = 10\n",
        "del a\n",
        "print(a)"
      ],
      "metadata": {
        "colab": {
          "base_uri": "https://localhost:8080/",
          "height": 176
        },
        "id": "VBSzcF0oLA1t",
        "outputId": "cfb213a3-5479-4fbc-a9d8-0add1951d42c"
      },
      "execution_count": 10,
      "outputs": [
        {
          "output_type": "error",
          "ename": "NameError",
          "evalue": "name 'a' is not defined",
          "traceback": [
            "\u001b[0;31m---------------------------------------------------------------------------\u001b[0m",
            "\u001b[0;31mNameError\u001b[0m                                 Traceback (most recent call last)",
            "\u001b[0;32m/tmp/ipython-input-1529759680.py\u001b[0m in \u001b[0;36m<cell line: 0>\u001b[0;34m()\u001b[0m\n\u001b[1;32m      1\u001b[0m \u001b[0ma\u001b[0m \u001b[0;34m=\u001b[0m \u001b[0;36m10\u001b[0m\u001b[0;34m\u001b[0m\u001b[0;34m\u001b[0m\u001b[0m\n\u001b[1;32m      2\u001b[0m \u001b[0;32mdel\u001b[0m \u001b[0ma\u001b[0m\u001b[0;34m\u001b[0m\u001b[0;34m\u001b[0m\u001b[0m\n\u001b[0;32m----> 3\u001b[0;31m \u001b[0mprint\u001b[0m\u001b[0;34m(\u001b[0m\u001b[0ma\u001b[0m\u001b[0;34m)\u001b[0m\u001b[0;34m\u001b[0m\u001b[0;34m\u001b[0m\u001b[0m\n\u001b[0m",
            "\u001b[0;31mNameError\u001b[0m: name 'a' is not defined"
          ]
        }
      ]
    },
    {
      "cell_type": "code",
      "source": [
        "x = [\"apple\", \"banana\", \"orange\", \"grape\", \"guava\", \"pineapple\"]\n",
        "del x[0]\n",
        "print(x)\n",
        "del x[2:4]\n",
        "# deletes from index 2 to 3\n",
        "print(x)"
      ],
      "metadata": {
        "colab": {
          "base_uri": "https://localhost:8080/"
        },
        "id": "VAnQfh-wLX7q",
        "outputId": "c4be2b05-6494-4e46-dbb0-8eee73380fca"
      },
      "execution_count": 12,
      "outputs": [
        {
          "output_type": "stream",
          "name": "stdout",
          "text": [
            "['banana', 'orange', 'grape', 'guava', 'pineapple']\n",
            "['banana', 'orange', 'pineapple']\n"
          ]
        }
      ]
    }
  ]
}